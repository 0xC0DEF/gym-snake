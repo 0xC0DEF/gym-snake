{
 "cells": [
  {
   "cell_type": "code",
   "execution_count": 21,
   "id": "affected-shannon",
   "metadata": {},
   "outputs": [],
   "source": [
    "import random\n",
    "import time\n",
    "from collections import deque\n",
    "\n",
    "import numpy as np\n",
    "\n",
    "import torch as tc\n",
    "import torch.optim as opt\n",
    "\n",
    "import gym\n",
    "import gym_snake\n",
    "env = gym.make('snake-v0')\n",
    "\n",
    "from model import NN\n",
    "from core import CUDA_AVAILABLE, DEVICE"
   ]
  },
  {
   "cell_type": "code",
   "execution_count": 22,
   "id": "yellow-administrator",
   "metadata": {},
   "outputs": [],
   "source": [
    "#Train Parameters\n",
    "\n",
    "BATCH_SIZE = 128\n",
    "DISC_RATIO=0.9\n",
    "EPISODE_CNT=50000\n",
    "EPS_EXPONENT=2.6\n",
    "EPS_MAX=1.0\n",
    "EPS_MIN=0.1\n",
    "MEMORY_SIZE = 500000\n",
    "STAT_DISPLAY_PERIOD = 200\n",
    "SAVE_PERIOD = EPISODE_CNT//20"
   ]
  },
  {
   "cell_type": "code",
   "execution_count": 24,
   "id": "hispanic-tampa",
   "metadata": {},
   "outputs": [
    {
     "ename": "KeyboardInterrupt",
     "evalue": "",
     "output_type": "error",
     "traceback": [
      "\u001b[0;31m---------------------------------------------------------------------------\u001b[0m",
      "\u001b[0;31mKeyboardInterrupt\u001b[0m                         Traceback (most recent call last)",
      "\u001b[0;32m<ipython-input-24-8e8422c2a9ae>\u001b[0m in \u001b[0;36m<module>\u001b[0;34m\u001b[0m\n\u001b[1;32m     31\u001b[0m             \u001b[0mbat\u001b[0m\u001b[0;34m=\u001b[0m\u001b[0mrandom\u001b[0m\u001b[0;34m.\u001b[0m\u001b[0msample\u001b[0m\u001b[0;34m(\u001b[0m\u001b[0mexpr_mem\u001b[0m\u001b[0;34m,\u001b[0m\u001b[0mBATCH_SIZE\u001b[0m\u001b[0;34m)\u001b[0m\u001b[0;34m\u001b[0m\u001b[0;34m\u001b[0m\u001b[0m\n\u001b[1;32m     32\u001b[0m             \u001b[0ms1bat\u001b[0m\u001b[0;34m=\u001b[0m\u001b[0mtc\u001b[0m\u001b[0;34m.\u001b[0m\u001b[0mtensor\u001b[0m\u001b[0;34m(\u001b[0m\u001b[0;34m[\u001b[0m\u001b[0ms1\u001b[0m \u001b[0;32mfor\u001b[0m \u001b[0;34m(\u001b[0m\u001b[0ms1\u001b[0m\u001b[0;34m,\u001b[0m\u001b[0ma\u001b[0m\u001b[0;34m,\u001b[0m\u001b[0mr\u001b[0m\u001b[0;34m,\u001b[0m\u001b[0ms2\u001b[0m\u001b[0;34m,\u001b[0m\u001b[0md\u001b[0m\u001b[0;34m)\u001b[0m \u001b[0;32min\u001b[0m \u001b[0mbat\u001b[0m\u001b[0;34m]\u001b[0m\u001b[0;34m)\u001b[0m\u001b[0;34m.\u001b[0m\u001b[0mto\u001b[0m\u001b[0;34m(\u001b[0m\u001b[0mDEVICE\u001b[0m\u001b[0;34m)\u001b[0m\u001b[0;34m\u001b[0m\u001b[0;34m\u001b[0m\u001b[0m\n\u001b[0;32m---> 33\u001b[0;31m             \u001b[0mabat\u001b[0m\u001b[0;34m=\u001b[0m\u001b[0mtc\u001b[0m\u001b[0;34m.\u001b[0m\u001b[0mtensor\u001b[0m\u001b[0;34m(\u001b[0m\u001b[0;34m[\u001b[0m\u001b[0ma\u001b[0m \u001b[0;32mfor\u001b[0m \u001b[0;34m(\u001b[0m\u001b[0ms1\u001b[0m\u001b[0;34m,\u001b[0m\u001b[0ma\u001b[0m\u001b[0;34m,\u001b[0m\u001b[0mr\u001b[0m\u001b[0;34m,\u001b[0m\u001b[0ms2\u001b[0m\u001b[0;34m,\u001b[0m\u001b[0md\u001b[0m\u001b[0;34m)\u001b[0m \u001b[0;32min\u001b[0m \u001b[0mbat\u001b[0m\u001b[0;34m]\u001b[0m\u001b[0;34m)\u001b[0m\u001b[0;34m.\u001b[0m\u001b[0mto\u001b[0m\u001b[0;34m(\u001b[0m\u001b[0mDEVICE\u001b[0m\u001b[0;34m)\u001b[0m\u001b[0;34m\u001b[0m\u001b[0;34m\u001b[0m\u001b[0m\n\u001b[0m\u001b[1;32m     34\u001b[0m             \u001b[0mrbat\u001b[0m\u001b[0;34m=\u001b[0m\u001b[0mtc\u001b[0m\u001b[0;34m.\u001b[0m\u001b[0mtensor\u001b[0m\u001b[0;34m(\u001b[0m\u001b[0;34m[\u001b[0m\u001b[0mr\u001b[0m \u001b[0;32mfor\u001b[0m \u001b[0;34m(\u001b[0m\u001b[0ms1\u001b[0m\u001b[0;34m,\u001b[0m\u001b[0ma\u001b[0m\u001b[0;34m,\u001b[0m\u001b[0mr\u001b[0m\u001b[0;34m,\u001b[0m\u001b[0ms2\u001b[0m\u001b[0;34m,\u001b[0m\u001b[0md\u001b[0m\u001b[0;34m)\u001b[0m \u001b[0;32min\u001b[0m \u001b[0mbat\u001b[0m\u001b[0;34m]\u001b[0m\u001b[0;34m)\u001b[0m\u001b[0;34m.\u001b[0m\u001b[0mto\u001b[0m\u001b[0;34m(\u001b[0m\u001b[0mDEVICE\u001b[0m\u001b[0;34m)\u001b[0m\u001b[0;34m\u001b[0m\u001b[0;34m\u001b[0m\u001b[0m\n\u001b[1;32m     35\u001b[0m             \u001b[0ms2bat\u001b[0m\u001b[0;34m=\u001b[0m\u001b[0mtc\u001b[0m\u001b[0;34m.\u001b[0m\u001b[0mtensor\u001b[0m\u001b[0;34m(\u001b[0m\u001b[0;34m[\u001b[0m\u001b[0ms2\u001b[0m \u001b[0;32mfor\u001b[0m \u001b[0;34m(\u001b[0m\u001b[0ms1\u001b[0m\u001b[0;34m,\u001b[0m\u001b[0ma\u001b[0m\u001b[0;34m,\u001b[0m\u001b[0mr\u001b[0m\u001b[0;34m,\u001b[0m\u001b[0ms2\u001b[0m\u001b[0;34m,\u001b[0m\u001b[0md\u001b[0m\u001b[0;34m)\u001b[0m \u001b[0;32min\u001b[0m \u001b[0mbat\u001b[0m\u001b[0;34m]\u001b[0m\u001b[0;34m)\u001b[0m\u001b[0;34m.\u001b[0m\u001b[0mto\u001b[0m\u001b[0;34m(\u001b[0m\u001b[0mDEVICE\u001b[0m\u001b[0;34m)\u001b[0m\u001b[0;34m\u001b[0m\u001b[0;34m\u001b[0m\u001b[0m\n",
      "\u001b[0;31mKeyboardInterrupt\u001b[0m: "
     ]
    }
   ],
   "source": [
    "net=NN().cuda() if CUDA_AVAILABLE else NN()\n",
    "net.train()\n",
    "lossf=tc.nn.MSELoss()\n",
    "opter=opt.Adam(net.parameters())\n",
    "\n",
    "eps=EPS_MAX\n",
    "expr_mem = deque(maxlen=MEMORY_SIZE)\n",
    "\n",
    "j=0\n",
    "losses=[]\n",
    "rwdsums=[]\n",
    "for epi in range(EPISODE_CNT):\n",
    "    obs=env.reset()\n",
    "    done=False\n",
    "        \n",
    "    rwdsum=0\n",
    "    while not done:\n",
    "        s1=obs\n",
    "        qval=net(tc.tensor(s1).to(DEVICE))\n",
    "        actidx=None\n",
    "        if random.random()<eps:\n",
    "            actidx=np.random.randint(0,3)\n",
    "        else:\n",
    "            actidx=np.argmax(qval.cpu().detach().numpy())\n",
    "        obs,rwd,done,info=env.step(actidx)\n",
    "        rwdsum+=rwd\n",
    "        expr_mem.append((s1,actidx,rwd,obs,int(done)))\n",
    "        \n",
    "        j+=1\n",
    "        if len(expr_mem)>BATCH_SIZE and j%(BATCH_SIZE//10)==0:\n",
    "            bat=random.sample(expr_mem,BATCH_SIZE)\n",
    "            s1bat=tc.tensor([s1 for (s1,a,r,s2,d) in bat]).to(DEVICE)\n",
    "            abat=tc.tensor([a for (s1,a,r,s2,d) in bat]).to(DEVICE)\n",
    "            rbat=tc.tensor([r for (s1,a,r,s2,d) in bat]).to(DEVICE)\n",
    "            s2bat=tc.tensor([s2 for (s1,a,r,s2,d) in bat]).to(DEVICE)\n",
    "            dbat=tc.tensor([d for (s1,a,r,s2,d) in bat]).to(DEVICE)\n",
    "\n",
    "            q1=net(s1bat)\n",
    "            with tc.no_grad():\n",
    "                q2=net(s2bat)\n",
    "            x=q1.gather(1,abat.unsqueeze(dim=1)).squeeze()\n",
    "            y=rbat+DISC_RATIO*((1-dbat)*tc.max(q2,dim=1)[0])\n",
    "            loss=lossf(x,y)\n",
    "            opter.zero_grad()\n",
    "            loss.backward()\n",
    "            opter.step()\n",
    "            losses.append(loss.cpu().detach().numpy())\n",
    "    rwdsums.append(rwdsum)\n",
    "    eps=min(EPS_MAX,max(EPS_MIN, ((EPISODE_CNT-epi)/EPISODE_CNT)**EPS_EXPONENT ))\n",
    "    \n",
    "        \n",
    "    if epi and epi%SAVE_PERIOD==0:\n",
    "        tc.save(net.state_dict(),'./netw.pt')\n",
    "        from IPython.display import clear_output\n",
    "        clear_output(wait=True)\n",
    "    if epi and epi%STAT_DISPLAY_PERIOD==0:\n",
    "        print(\"{}/{}({:.2f}%): LossAvg={:.4f} RwdAvg={:.4f}\".format(\n",
    "            epi,\n",
    "            EPISODE_CNT,\n",
    "            epi/EPISODE_CNT*100,\n",
    "            sum(losses)/len(losses),\n",
    "            sum(rwdsums)/len(rwdsums)))\n",
    "        rwdsums=[]\n",
    "        losses=[]\n",
    "\n",
    "#save\n",
    "tc.save(net.state_dict(),'./netw.pt')\n",
    "print(\"DONE!!!\")"
   ]
  },
  {
   "cell_type": "code",
   "execution_count": null,
   "id": "residential-blanket",
   "metadata": {},
   "outputs": [],
   "source": []
  }
 ],
 "metadata": {
  "kernelspec": {
   "display_name": "Python 3",
   "language": "python",
   "name": "python3"
  },
  "language_info": {
   "codemirror_mode": {
    "name": "ipython",
    "version": 3
   },
   "file_extension": ".py",
   "mimetype": "text/x-python",
   "name": "python",
   "nbconvert_exporter": "python",
   "pygments_lexer": "ipython3",
   "version": "3.8.5"
  }
 },
 "nbformat": 4,
 "nbformat_minor": 5
}
