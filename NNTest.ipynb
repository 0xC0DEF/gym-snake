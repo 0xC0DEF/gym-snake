{
 "cells": [
  {
   "cell_type": "code",
   "execution_count": 1,
   "id": "humanitarian-kenya",
   "metadata": {},
   "outputs": [
    {
     "output_type": "stream",
     "name": "stdout",
     "text": [
      "Obtaining file:///home/lobo/gym-snake\n",
      "Requirement already satisfied: gym in /home/lobo/.local/lib/python3.8/site-packages (from gym-snake==0.0.1) (0.18.0)\n",
      "Requirement already satisfied: scipy in /home/lobo/.local/lib/python3.8/site-packages (from gym->gym-snake==0.0.1) (1.6.0)\n",
      "Requirement already satisfied: cloudpickle<1.7.0,>=1.2.0 in /home/lobo/.local/lib/python3.8/site-packages (from gym->gym-snake==0.0.1) (1.6.0)\n",
      "Requirement already satisfied: pyglet<=1.5.0,>=1.4.0 in /home/lobo/.local/lib/python3.8/site-packages (from gym->gym-snake==0.0.1) (1.5.0)\n",
      "Requirement already satisfied: Pillow<=7.2.0 in /usr/lib/python3/dist-packages (from gym->gym-snake==0.0.1) (7.0.0)\n",
      "Requirement already satisfied: numpy>=1.10.4 in /home/lobo/.local/lib/python3.8/site-packages (from gym->gym-snake==0.0.1) (1.19.5)\n",
      "Requirement already satisfied: future in /home/lobo/.local/lib/python3.8/site-packages (from pyglet<=1.5.0,>=1.4.0->gym->gym-snake==0.0.1) (0.18.2)\n",
      "Installing collected packages: gym-snake\n",
      "  Attempting uninstall: gym-snake\n",
      "    Found existing installation: gym-snake 0.0.1\n",
      "    Uninstalling gym-snake-0.0.1:\n",
      "      Successfully uninstalled gym-snake-0.0.1\n",
      "  Running setup.py develop for gym-snake\n",
      "Successfully installed gym-snake\n"
     ]
    }
   ],
   "source": [
    "!python3 -m pip install -e .\n",
    "\n",
    "import random\n",
    "import time\n",
    "from collections import deque\n",
    "\n",
    "import numpy as np\n",
    "\n",
    "import torch as tc\n",
    "import torch.optim as opt\n",
    "\n",
    "import gym\n",
    "import gym_snake\n",
    "env = gym.make('snake-v0')\n",
    "\n",
    "from model import NN\n",
    "from core import DEVICE,render_inline"
   ]
  },
  {
   "cell_type": "code",
   "execution_count": 30,
   "id": "continued-framework",
   "metadata": {},
   "outputs": [],
   "source": [
    "#load\n",
    "net=NN().cuda()\n",
    "net.load_state_dict(tc.load('./netw.pt'))\n",
    "net.eval();"
   ]
  },
  {
   "cell_type": "code",
   "execution_count": 34,
   "id": "convertible-cartoon",
   "metadata": {},
   "outputs": [
    {
     "output_type": "display_data",
     "data": {
      "text/plain": "<Figure size 432x288 with 1 Axes>",
      "image/svg+xml": "<?xml version=\"1.0\" encoding=\"utf-8\" standalone=\"no\"?>\n<!DOCTYPE svg PUBLIC \"-//W3C//DTD SVG 1.1//EN\"\n  \"http://www.w3.org/Graphics/SVG/1.1/DTD/svg11.dtd\">\n<!-- Created with matplotlib (https://matplotlib.org/) -->\n<svg height=\"226.998pt\" version=\"1.1\" viewBox=\"0 0 349.2 226.998\" width=\"349.2pt\" xmlns=\"http://www.w3.org/2000/svg\" xmlns:xlink=\"http://www.w3.org/1999/xlink\">\n <metadata>\n  <rdf:RDF xmlns:cc=\"http://creativecommons.org/ns#\" xmlns:dc=\"http://purl.org/dc/elements/1.1/\" xmlns:rdf=\"http://www.w3.org/1999/02/22-rdf-syntax-ns#\">\n   <cc:Work>\n    <dc:type rdf:resource=\"http://purl.org/dc/dcmitype/StillImage\"/>\n    <dc:date>2021-02-19T06:34:22.963679</dc:date>\n    <dc:format>image/svg+xml</dc:format>\n    <dc:creator>\n     <cc:Agent>\n      <dc:title>Matplotlib v3.3.4, https://matplotlib.org/</dc:title>\n     </cc:Agent>\n    </dc:creator>\n   </cc:Work>\n  </rdf:RDF>\n </metadata>\n <defs>\n  <style type=\"text/css\">*{stroke-linecap:butt;stroke-linejoin:round;}</style>\n </defs>\n <g id=\"figure_1\">\n  <g id=\"patch_1\">\n   <path d=\"M 0 226.998 \nL 349.2 226.998 \nL 349.2 0 \nL 0 0 \nz\n\" style=\"fill:none;\"/>\n  </g>\n  <g id=\"axes_1\">\n   <g clip-path=\"url(#pdca49d5e2e)\">\n    <image height=\"213\" id=\"image5622f09e96\" transform=\"scale(1 -1)translate(0 -213)\" width=\"335\" x=\"7.2\" xlink:href=\"data:image/png;base64,\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\" y=\"-6.798\"/>\n   </g>\n  </g>\n </g>\n <defs>\n  <clipPath id=\"pdca49d5e2e\">\n   <rect height=\"212.598\" width=\"334.8\" x=\"7.2\" y=\"7.2\"/>\n  </clipPath>\n </defs>\n</svg>\n",
      "image/png": "[encoded data removed]"
     },
     "metadata": {}
    },
    {
     "output_type": "display_data",
     "data": {
      "text/plain": "<Figure size 432x288 with 1 Axes>",
      "image/svg+xml": "<?xml version=\"1.0\" encoding=\"utf-8\" standalone=\"no\"?>\n<!DOCTYPE svg PUBLIC \"-//W3C//DTD SVG 1.1//EN\"\n  \"http://www.w3.org/Graphics/SVG/1.1/DTD/svg11.dtd\">\n<!-- Created with matplotlib (https://matplotlib.org/) -->\n<svg height=\"226.998pt\" version=\"1.1\" viewBox=\"0 0 349.2 226.998\" width=\"349.2pt\" xmlns=\"http://www.w3.org/2000/svg\" xmlns:xlink=\"http://www.w3.org/1999/xlink\">\n <metadata>\n  <rdf:RDF xmlns:cc=\"http://creativecommons.org/ns#\" xmlns:dc=\"http://purl.org/dc/elements/1.1/\" xmlns:rdf=\"http://www.w3.org/1999/02/22-rdf-syntax-ns#\">\n   <cc:Work>\n    <dc:type rdf:resource=\"http://purl.org/dc/dcmitype/StillImage\"/>\n    <dc:date>2021-02-19T06:34:23.027958</dc:date>\n    <dc:format>image/svg+xml</dc:format>\n    <dc:creator>\n     <cc:Agent>\n      <dc:title>Matplotlib v3.3.4, https://matplotlib.org/</dc:title>\n     </cc:Agent>\n    </dc:creator>\n   </cc:Work>\n  </rdf:RDF>\n </metadata>\n <defs>\n  <style type=\"text/css\">*{stroke-linecap:butt;stroke-linejoin:round;}</style>\n </defs>\n <g id=\"figure_1\">\n  <g id=\"patch_1\">\n   <path d=\"M 0 226.998 \nL 349.2 226.998 \nL 349.2 0 \nL 0 0 \nz\n\" style=\"fill:none;\"/>\n  </g>\n  <g id=\"axes_1\">\n   <g clip-path=\"url(#p72f89f8d3c)\">\n    <image height=\"213\" id=\"image77dbc0901d\" transform=\"scale(1 -1)translate(0 -213)\" width=\"335\" x=\"7.2\" xlink:href=\"data:image/png;base64,\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\" y=\"-6.798\"/>\n   </g>\n  </g>\n </g>\n <defs>\n  <clipPath id=\"p72f89f8d3c\">\n   <rect height=\"212.598\" width=\"334.8\" x=\"7.2\" y=\"7.2\"/>\n  </clipPath>\n </defs>\n</svg>\n",
      "image/png": "[encoded data removed]"
     },
     "metadata": {
      "needs_background": "light"
     }
    }
   ],
   "source": [
    "\n",
    "#net=NN().cuda()\n",
    "with tc.no_grad():\n",
    "    obs=env.reset()\n",
    "    while True:\n",
    "        res=net(tc.tensor(obs[0]).to(DEVICE),tc.tensor(0)).detach().squeeze().tolist()\n",
    "        obs, rwd, done, _ = env.step(res.index(max(res)))\n",
    "        #env.render()\n",
    "        render_inline(env)\n",
    "        if done:\n",
    "            break\n",
    "env.close()"
   ]
  },
  {
   "cell_type": "code",
   "execution_count": 4,
   "id": "broadband-stewart",
   "metadata": {},
   "outputs": [
    {
     "output_type": "display_data",
     "data": {
      "text/plain": "<Figure size 432x288 with 1 Axes>",
      "image/svg+xml": "<?xml version=\"1.0\" encoding=\"utf-8\" standalone=\"no\"?>\n<!DOCTYPE svg PUBLIC \"-//W3C//DTD SVG 1.1//EN\"\n  \"http://www.w3.org/Graphics/SVG/1.1/DTD/svg11.dtd\">\n<!-- Created with matplotlib (https://matplotlib.org/) -->\n<svg height=\"226.998pt\" version=\"1.1\" viewBox=\"0 0 349.2 226.998\" width=\"349.2pt\" xmlns=\"http://www.w3.org/2000/svg\" xmlns:xlink=\"http://www.w3.org/1999/xlink\">\n <metadata>\n  <rdf:RDF xmlns:cc=\"http://creativecommons.org/ns#\" xmlns:dc=\"http://purl.org/dc/elements/1.1/\" xmlns:rdf=\"http://www.w3.org/1999/02/22-rdf-syntax-ns#\">\n   <cc:Work>\n    <dc:type rdf:resource=\"http://purl.org/dc/dcmitype/StillImage\"/>\n    <dc:date>2021-02-19T04:49:32.080585</dc:date>\n    <dc:format>image/svg+xml</dc:format>\n    <dc:creator>\n     <cc:Agent>\n      <dc:title>Matplotlib v3.3.4, https://matplotlib.org/</dc:title>\n     </cc:Agent>\n    </dc:creator>\n   </cc:Work>\n  </rdf:RDF>\n </metadata>\n <defs>\n  <style type=\"text/css\">*{stroke-linecap:butt;stroke-linejoin:round;}</style>\n </defs>\n <g id=\"figure_1\">\n  <g id=\"patch_1\">\n   <path d=\"M 0 226.998 \nL 349.2 226.998 \nL 349.2 0 \nL 0 0 \nz\n\" style=\"fill:none;\"/>\n  </g>\n  <g id=\"axes_1\">\n   <g clip-path=\"url(#p2226aacdf4)\">\n    <image height=\"213\" id=\"imagecd0b0dd570\" transform=\"scale(1 -1)translate(0 -213)\" width=\"335\" x=\"7.2\" xlink:href=\"data:image/png;base64,\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\" y=\"-6.798\"/>\n   </g>\n  </g>\n </g>\n <defs>\n  <clipPath id=\"p2226aacdf4\">\n   <rect height=\"212.598\" width=\"334.8\" x=\"7.2\" y=\"7.2\"/>\n  </clipPath>\n </defs>\n</svg>\n",
      "image/png": "[encoded data removed]"
     },
     "metadata": {}
    },
    {
     "output_type": "error",
     "ename": "ValueError",
     "evalue": "invalid literal for int() with base 10: ''",
     "traceback": [
      "\u001b[0;31m---------------------------------------------------------------------------\u001b[0m",
      "\u001b[0;31mValueError\u001b[0m                                Traceback (most recent call last)",
      "\u001b[0;32m<ipython-input-4-063674f2aa62>\u001b[0m in \u001b[0;36m<module>\u001b[0;34m\u001b[0m\n\u001b[1;32m      4\u001b[0m \u001b[0mdone\u001b[0m\u001b[0;34m=\u001b[0m\u001b[0;32mFalse\u001b[0m\u001b[0;34m\u001b[0m\u001b[0;34m\u001b[0m\u001b[0m\n\u001b[1;32m      5\u001b[0m \u001b[0;32mwhile\u001b[0m \u001b[0;32mnot\u001b[0m \u001b[0mdone\u001b[0m\u001b[0;34m:\u001b[0m\u001b[0;34m\u001b[0m\u001b[0;34m\u001b[0m\u001b[0m\n\u001b[0;32m----> 6\u001b[0;31m     \u001b[0mobs\u001b[0m\u001b[0;34m,\u001b[0m \u001b[0mrwd\u001b[0m\u001b[0;34m,\u001b[0m \u001b[0mdone\u001b[0m\u001b[0;34m,\u001b[0m \u001b[0m_\u001b[0m \u001b[0;34m=\u001b[0m \u001b[0menv\u001b[0m\u001b[0;34m.\u001b[0m\u001b[0mstep\u001b[0m\u001b[0;34m(\u001b[0m\u001b[0mint\u001b[0m\u001b[0;34m(\u001b[0m\u001b[0minput\u001b[0m\u001b[0;34m(\u001b[0m\u001b[0;34m)\u001b[0m\u001b[0;34m)\u001b[0m\u001b[0;34m)\u001b[0m\u001b[0;34m\u001b[0m\u001b[0;34m\u001b[0m\u001b[0m\n\u001b[0m\u001b[1;32m      7\u001b[0m     \u001b[0mrender_inline\u001b[0m\u001b[0;34m(\u001b[0m\u001b[0menv\u001b[0m\u001b[0;34m)\u001b[0m\u001b[0;34m\u001b[0m\u001b[0;34m\u001b[0m\u001b[0m\n\u001b[1;32m      8\u001b[0m \u001b[0menv\u001b[0m\u001b[0;34m.\u001b[0m\u001b[0mclose\u001b[0m\u001b[0;34m(\u001b[0m\u001b[0;34m)\u001b[0m\u001b[0;34m\u001b[0m\u001b[0;34m\u001b[0m\u001b[0m\n",
      "\u001b[0;31mValueError\u001b[0m: invalid literal for int() with base 10: ''"
     ]
    }
   ],
   "source": [
    "##### Human Input\n",
    "obs=env.reset()\n",
    "render_inline(env)\n",
    "done=False\n",
    "while not done:\n",
    "    obs, rwd, done, _ = env.step(int(input()))\n",
    "    render_inline(env)\n",
    "env.close()"
   ]
  },
  {
   "cell_type": "code",
   "execution_count": null,
   "id": "excited-spyware",
   "metadata": {},
   "outputs": [],
   "source": []
  }
 ],
 "metadata": {
  "kernelspec": {
   "display_name": "Python 3",
   "language": "python",
   "name": "python3"
  },
  "language_info": {
   "codemirror_mode": {
    "name": "ipython",
    "version": 3
   },
   "file_extension": ".py",
   "mimetype": "text/x-python",
   "name": "python",
   "nbconvert_exporter": "python",
   "pygments_lexer": "ipython3",
   "version": "3.8.5-final"
  }
 },
 "nbformat": 4,
 "nbformat_minor": 5
}