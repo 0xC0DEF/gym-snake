{
 "cells": [
  {
   "cell_type": "code",
   "execution_count": 1,
   "id": "brown-maryland",
   "metadata": {},
   "outputs": [],
   "source": [
    "import random\n",
    "import time\n",
    "from collections import deque\n",
    "\n",
    "import numpy as np\n",
    "\n",
    "import torch as tc\n",
    "import torch.optim as opt\n",
    "\n",
    "import gym\n",
    "import gym_snake\n",
    "env = gym.make('snake-v0')\n",
    "\n",
    "from model import NN\n",
    "from core import DEVICE,render_inline"
   ]
  },
  {
   "cell_type": "code",
   "execution_count": 4,
   "id": "sharing-nirvana",
   "metadata": {},
   "outputs": [],
   "source": [
    "#load\n",
    "net=NN().cuda()\n",
    "net.load_state_dict(tc.load('./netw.pt'))\n",
    "net.eval();"
   ]
  },
  {
   "cell_type": "code",
   "execution_count": 8,
   "id": "stuffed-shuttle",
   "metadata": {},
   "outputs": [
    {
     "data": {
      "image/png": "[encoded data removed]",
      "text/plain": [
       "<Figure size 432x288 with 1 Axes>"
      ]
     },
     "metadata": {},
     "output_type": "display_data"
    },
    {
     "data": {
      "image/png": "[encoded data removed]",
      "text/plain": [
       "<Figure size 432x288 with 1 Axes>"
      ]
     },
     "metadata": {
      "needs_background": "light"
     },
     "output_type": "display_data"
    }
   ],
   "source": [
    "with tc.no_grad():\n",
    "    obs=env.reset()\n",
    "    while True:\n",
    "        res=net(tc.tensor(obs).to(DEVICE)).detach().squeeze().tolist()\n",
    "        obs, rwd, done, _ = env.step(res.index(max(res)))\n",
    "        #env.render()\n",
    "        render_inline(env)\n",
    "        time.sleep(0.1)\n",
    "        if done:\n",
    "            break\n",
    "time.sleep(0.5)\n",
    "env.close()"
   ]
  },
  {
   "cell_type": "code",
   "execution_count": 4,
   "id": "diagnostic-electric",
   "metadata": {},
   "outputs": [
    {
     "data": {
      "text/plain": [
       "True"
      ]
     },
     "execution_count": 4,
     "metadata": {},
     "output_type": "execute_result"
    }
   ],
   "source": [
    "obs=env.reset()\n",
    "env.render()"
   ]
  },
  {
   "cell_type": "code",
   "execution_count": null,
   "id": "graphic-tenant",
   "metadata": {},
   "outputs": [],
   "source": []
  }
 ],
 "metadata": {
  "kernelspec": {
   "display_name": "Python 3",
   "language": "python",
   "name": "python3"
  },
  "language_info": {
   "codemirror_mode": {
    "name": "ipython",
    "version": 3
   },
   "file_extension": ".py",
   "mimetype": "text/x-python",
   "name": "python",
   "nbconvert_exporter": "python",
   "pygments_lexer": "ipython3",
   "version": "3.8.5"
  }
 },
 "nbformat": 4,
 "nbformat_minor": 5
}
