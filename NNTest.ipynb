{
 "cells": [
  {
   "cell_type": "code",
   "execution_count": 529,
   "id": "rubber-claim",
   "metadata": {},
   "outputs": [],
   "source": [
    "#model definition\n",
    "\n",
    "import random\n",
    "import time\n",
    "from collections import deque\n",
    "import numpy as np\n",
    "\n",
    "import torch as tc\n",
    "import torch.nn as nn\n",
    "import torch.optim as opt\n",
    "import torch.nn.init as init\n",
    "DEVICE = tc.device(\"cuda\" if tc.cuda.is_available() else \"cpu\")\n",
    "\n",
    "import gym\n",
    "import gym_snake\n",
    "env = gym.make('snake-v0')\n",
    "\n",
    "class Option(object):\n",
    "    HUNGRY_RATE=20\n",
    "    ROW=8\n",
    "    COL=8\n",
    "\n",
    "class NN(nn.Module):\n",
    "    def __init__(self):\n",
    "        super(NN,self).__init__()\n",
    "        self.in_ch=2\n",
    "        self.out_ch=3\n",
    "        \n",
    "        self.c1=nn.Sequential(\n",
    "            nn.Conv2d(self.in_ch,3,3,padding=1,padding_mode=\"circular\"),\n",
    "            nn.LeakyReLU(0.1),\n",
    "            \n",
    "            nn.Conv2d(3,self.out_ch,3,padding=1,padding_mode=\"circular\"),\n",
    "        )\n",
    "        \n",
    "        self.d1=nn.Sequential(\n",
    "            nn.Linear(self.out_ch*Option.ROW*Option.COL,512),\n",
    "            nn.LeakyReLU(0.1),\n",
    "            \n",
    "            nn.Linear(512,256),\n",
    "            nn.Dropout(0.5),\n",
    "            nn.LeakyReLU(0.1),\n",
    "            \n",
    "            nn.Linear(256,3),\n",
    "        )\n",
    "        for m in [self.c1,self.d1]:\n",
    "            if type(m)==nn.Linear or type(m)==nn.Conv2d:\n",
    "                init.xavier_uniform_(m.weight.data)\n",
    "                init.xavier_uniform_(m.bias.data)\n",
    "                \n",
    "    def forward(self,x):\n",
    "        x=x.to(DEVICE)\n",
    "        x=x.reshape((-1,2,Option.ROW,Option.COL))\n",
    "        x=self.c1(x)\n",
    "        x=x.reshape(-1,self.out_ch*Option.ROW*Option.COL)\n",
    "        return self.d1(x)"
   ]
  },
  {
   "cell_type": "code",
   "execution_count": 972,
   "id": "round-surname",
   "metadata": {},
   "outputs": [
    {
     "data": {
      "text/plain": [
       "<All keys matched successfully>"
      ]
     },
     "execution_count": 972,
     "metadata": {},
     "output_type": "execute_result"
    }
   ],
   "source": [
    "#load\n",
    "net_trained=NN().cuda()\n",
    "net_trained.load_state_dict(tc.load('./netw.pt'))"
   ]
  },
  {
   "cell_type": "code",
   "execution_count": 984,
   "id": "antique-surprise",
   "metadata": {},
   "outputs": [],
   "source": [
    "import time\n",
    "\n",
    "net_trained.eval()\n",
    "\n",
    "with tc.no_grad():\n",
    "    obs=env.reset()\n",
    "    while True:\n",
    "        res=net_trained(tc.tensor(obs).to(DEVICE)).detach().squeeze().tolist()\n",
    "        obs, rwd, done, _ = env.step(res.index(max(res)))\n",
    "        env.render()\n",
    "        time.sleep(0.05)\n",
    "        if done:\n",
    "            break\n",
    "    env.close()"
   ]
  },
  {
   "cell_type": "code",
   "execution_count": null,
   "id": "earned-jacksonville",
   "metadata": {},
   "outputs": [],
   "source": []
  },
  {
   "cell_type": "code",
   "execution_count": null,
   "id": "exempt-destruction",
   "metadata": {},
   "outputs": [],
   "source": []
  }
 ],
 "metadata": {
  "kernelspec": {
   "display_name": "Python 3",
   "language": "python",
   "name": "python3"
  },
  "language_info": {
   "codemirror_mode": {
    "name": "ipython",
    "version": 3
   },
   "file_extension": ".py",
   "mimetype": "text/x-python",
   "name": "python",
   "nbconvert_exporter": "python",
   "pygments_lexer": "ipython3",
   "version": "3.8.5"
  }
 },
 "nbformat": 4,
 "nbformat_minor": 5
}
