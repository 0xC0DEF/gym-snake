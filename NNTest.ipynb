{
 "cells": [
  {
   "cell_type": "code",
   "execution_count": 1,
   "id": "humanitarian-kenya",
   "metadata": {},
   "outputs": [
    {
     "output_type": "stream",
     "name": "stdout",
     "text": [
      "Obtaining file:///home/lobo/gym-snake\n",
      "Requirement already satisfied: gym in /home/lobo/.local/lib/python3.8/site-packages (from gym-snake==0.0.1) (0.18.0)\n",
      "Requirement already satisfied: pyglet<=1.5.0,>=1.4.0 in /home/lobo/.local/lib/python3.8/site-packages (from gym->gym-snake==0.0.1) (1.5.0)\n",
      "Requirement already satisfied: cloudpickle<1.7.0,>=1.2.0 in /home/lobo/.local/lib/python3.8/site-packages (from gym->gym-snake==0.0.1) (1.6.0)\n",
      "Requirement already satisfied: Pillow<=7.2.0 in /usr/lib/python3/dist-packages (from gym->gym-snake==0.0.1) (7.0.0)\n",
      "Requirement already satisfied: numpy>=1.10.4 in /home/lobo/.local/lib/python3.8/site-packages (from gym->gym-snake==0.0.1) (1.19.5)\n",
      "Requirement already satisfied: scipy in /home/lobo/.local/lib/python3.8/site-packages (from gym->gym-snake==0.0.1) (1.6.0)\n",
      "Requirement already satisfied: future in /home/lobo/.local/lib/python3.8/site-packages (from pyglet<=1.5.0,>=1.4.0->gym->gym-snake==0.0.1) (0.18.2)\n",
      "Installing collected packages: gym-snake\n",
      "  Attempting uninstall: gym-snake\n",
      "    Found existing installation: gym-snake 0.0.1\n",
      "    Uninstalling gym-snake-0.0.1:\n",
      "      Successfully uninstalled gym-snake-0.0.1\n",
      "  Running setup.py develop for gym-snake\n",
      "Successfully installed gym-snake\n"
     ]
    }
   ],
   "source": [
    "!python3 -m pip install -e .\n",
    "\n",
    "import random\n",
    "import time\n",
    "from collections import deque\n",
    "\n",
    "import numpy as np\n",
    "\n",
    "import torch as tc\n",
    "import torch.optim as opt\n",
    "\n",
    "import gym\n",
    "import gym_snake\n",
    "env = gym.make('snake-v0')\n",
    "\n",
    "from model import NN\n",
    "from core import DEVICE,render_inline"
   ]
  },
  {
   "cell_type": "code",
   "execution_count": 4,
   "id": "continued-framework",
   "metadata": {},
   "outputs": [],
   "source": [
    "#load\n",
    "net=NN().cuda()\n",
    "net.load_state_dict(tc.load('./netw.pt'))\n",
    "net.eval();"
   ]
  },
  {
   "cell_type": "code",
   "execution_count": 20,
   "id": "convertible-cartoon",
   "metadata": {},
   "outputs": [
    {
     "output_type": "display_data",
     "data": {
      "text/plain": "<Figure size 432x288 with 1 Axes>",
      "image/svg+xml": "<?xml version=\"1.0\" encoding=\"utf-8\" standalone=\"no\"?>\n<!DOCTYPE svg PUBLIC \"-//W3C//DTD SVG 1.1//EN\"\n  \"http://www.w3.org/Graphics/SVG/1.1/DTD/svg11.dtd\">\n<!-- Created with matplotlib (https://matplotlib.org/) -->\n<svg height=\"226.998pt\" version=\"1.1\" viewBox=\"0 0 349.2 226.998\" width=\"349.2pt\" xmlns=\"http://www.w3.org/2000/svg\" xmlns:xlink=\"http://www.w3.org/1999/xlink\">\n <metadata>\n  <rdf:RDF xmlns:cc=\"http://creativecommons.org/ns#\" xmlns:dc=\"http://purl.org/dc/elements/1.1/\" xmlns:rdf=\"http://www.w3.org/1999/02/22-rdf-syntax-ns#\">\n   <cc:Work>\n    <dc:type rdf:resource=\"http://purl.org/dc/dcmitype/StillImage\"/>\n    <dc:date>2021-02-19T05:31:44.225907</dc:date>\n    <dc:format>image/svg+xml</dc:format>\n    <dc:creator>\n     <cc:Agent>\n      <dc:title>Matplotlib v3.3.4, https://matplotlib.org/</dc:title>\n     </cc:Agent>\n    </dc:creator>\n   </cc:Work>\n  </rdf:RDF>\n </metadata>\n <defs>\n  <style type=\"text/css\">*{stroke-linecap:butt;stroke-linejoin:round;}</style>\n </defs>\n <g id=\"figure_1\">\n  <g id=\"patch_1\">\n   <path d=\"M 0 226.998 \nL 349.2 226.998 \nL 349.2 0 \nL 0 0 \nz\n\" style=\"fill:none;\"/>\n  </g>\n  <g id=\"axes_1\">\n   <g clip-path=\"url(#pc0647bacda)\">\n    <image height=\"213\" id=\"image85915e6e75\" transform=\"scale(1 -1)translate(0 -213)\" width=\"335\" x=\"7.2\" xlink:href=\"data:image/png;base64,\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\" y=\"-6.798\"/>\n   </g>\n  </g>\n </g>\n <defs>\n  <clipPath id=\"pc0647bacda\">\n   <rect height=\"212.598\" width=\"334.8\" x=\"7.2\" y=\"7.2\"/>\n  </clipPath>\n </defs>\n</svg>\n",
      "image/png": "[encoded data removed]"
     },
     "metadata": {}
    },
    {
     "output_type": "stream",
     "name": "stdout",
     "text": [
      "[-0.009733563289046288, -0.004121715668588877, -0.005296181421726942, 0.02231358364224434]\n"
     ]
    },
    {
     "output_type": "display_data",
     "data": {
      "text/plain": "<Figure size 432x288 with 1 Axes>",
      "image/svg+xml": "<?xml version=\"1.0\" encoding=\"utf-8\" standalone=\"no\"?>\n<!DOCTYPE svg PUBLIC \"-//W3C//DTD SVG 1.1//EN\"\n  \"http://www.w3.org/Graphics/SVG/1.1/DTD/svg11.dtd\">\n<!-- Created with matplotlib (https://matplotlib.org/) -->\n<svg height=\"226.998pt\" version=\"1.1\" viewBox=\"0 0 349.2 226.998\" width=\"349.2pt\" xmlns=\"http://www.w3.org/2000/svg\" xmlns:xlink=\"http://www.w3.org/1999/xlink\">\n <metadata>\n  <rdf:RDF xmlns:cc=\"http://creativecommons.org/ns#\" xmlns:dc=\"http://purl.org/dc/elements/1.1/\" xmlns:rdf=\"http://www.w3.org/1999/02/22-rdf-syntax-ns#\">\n   <cc:Work>\n    <dc:type rdf:resource=\"http://purl.org/dc/dcmitype/StillImage\"/>\n    <dc:date>2021-02-19T05:31:44.305063</dc:date>\n    <dc:format>image/svg+xml</dc:format>\n    <dc:creator>\n     <cc:Agent>\n      <dc:title>Matplotlib v3.3.4, https://matplotlib.org/</dc:title>\n     </cc:Agent>\n    </dc:creator>\n   </cc:Work>\n  </rdf:RDF>\n </metadata>\n <defs>\n  <style type=\"text/css\">*{stroke-linecap:butt;stroke-linejoin:round;}</style>\n </defs>\n <g id=\"figure_1\">\n  <g id=\"patch_1\">\n   <path d=\"M 0 226.998 \nL 349.2 226.998 \nL 349.2 0 \nL 0 0 \nz\n\" style=\"fill:none;\"/>\n  </g>\n  <g id=\"axes_1\">\n   <g clip-path=\"url(#pcdad40d257)\">\n    <image height=\"213\" id=\"image14f8bb0d0a\" transform=\"scale(1 -1)translate(0 -213)\" width=\"335\" x=\"7.2\" xlink:href=\"data:image/png;base64,\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\" y=\"-6.798\"/>\n   </g>\n  </g>\n </g>\n <defs>\n  <clipPath id=\"pcdad40d257\">\n   <rect height=\"212.598\" width=\"334.8\" x=\"7.2\" y=\"7.2\"/>\n  </clipPath>\n </defs>\n</svg>\n",
      "image/png": "[encoded data removed]"
     },
     "metadata": {
      "needs_background": "light"
     }
    }
   ],
   "source": [
    "\n",
    "#net=NN().cuda()\n",
    "with tc.no_grad():\n",
    "    obs=env.reset()\n",
    "    while True:\n",
    "        res=net(*map(lambda x:tc.tensor(x).to(DEVICE),obs)).detach().squeeze().tolist()\n",
    "        obs, rwd, done, _ = env.step(res.index(max(res)))\n",
    "        #env.render()\n",
    "        render_inline(env)\n",
    "        print(res)\n",
    "        if done:\n",
    "            break\n",
    "env.close()"
   ]
  },
  {
   "cell_type": "code",
   "execution_count": 4,
   "id": "broadband-stewart",
   "metadata": {},
   "outputs": [
    {
     "output_type": "display_data",
     "data": {
      "text/plain": "<Figure size 432x288 with 1 Axes>",
      "image/svg+xml": "<?xml version=\"1.0\" encoding=\"utf-8\" standalone=\"no\"?>\n<!DOCTYPE svg PUBLIC \"-//W3C//DTD SVG 1.1//EN\"\n  \"http://www.w3.org/Graphics/SVG/1.1/DTD/svg11.dtd\">\n<!-- Created with matplotlib (https://matplotlib.org/) -->\n<svg height=\"226.998pt\" version=\"1.1\" viewBox=\"0 0 349.2 226.998\" width=\"349.2pt\" xmlns=\"http://www.w3.org/2000/svg\" xmlns:xlink=\"http://www.w3.org/1999/xlink\">\n <metadata>\n  <rdf:RDF xmlns:cc=\"http://creativecommons.org/ns#\" xmlns:dc=\"http://purl.org/dc/elements/1.1/\" xmlns:rdf=\"http://www.w3.org/1999/02/22-rdf-syntax-ns#\">\n   <cc:Work>\n    <dc:type rdf:resource=\"http://purl.org/dc/dcmitype/StillImage\"/>\n    <dc:date>2021-02-19T04:49:32.080585</dc:date>\n    <dc:format>image/svg+xml</dc:format>\n    <dc:creator>\n     <cc:Agent>\n      <dc:title>Matplotlib v3.3.4, https://matplotlib.org/</dc:title>\n     </cc:Agent>\n    </dc:creator>\n   </cc:Work>\n  </rdf:RDF>\n </metadata>\n <defs>\n  <style type=\"text/css\">*{stroke-linecap:butt;stroke-linejoin:round;}</style>\n </defs>\n <g id=\"figure_1\">\n  <g id=\"patch_1\">\n   <path d=\"M 0 226.998 \nL 349.2 226.998 \nL 349.2 0 \nL 0 0 \nz\n\" style=\"fill:none;\"/>\n  </g>\n  <g id=\"axes_1\">\n   <g clip-path=\"url(#p2226aacdf4)\">\n    <image height=\"213\" id=\"imagecd0b0dd570\" transform=\"scale(1 -1)translate(0 -213)\" width=\"335\" x=\"7.2\" xlink:href=\"data:image/png;base64,\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\" y=\"-6.798\"/>\n   </g>\n  </g>\n </g>\n <defs>\n  <clipPath id=\"p2226aacdf4\">\n   <rect height=\"212.598\" width=\"334.8\" x=\"7.2\" y=\"7.2\"/>\n  </clipPath>\n </defs>\n</svg>\n",
      "image/png": "[encoded data removed]"
     },
     "metadata": {}
    },
    {
     "output_type": "error",
     "ename": "ValueError",
     "evalue": "invalid literal for int() with base 10: ''",
     "traceback": [
      "\u001b[0;31m---------------------------------------------------------------------------\u001b[0m",
      "\u001b[0;31mValueError\u001b[0m                                Traceback (most recent call last)",
      "\u001b[0;32m<ipython-input-4-063674f2aa62>\u001b[0m in \u001b[0;36m<module>\u001b[0;34m\u001b[0m\n\u001b[1;32m      4\u001b[0m \u001b[0mdone\u001b[0m\u001b[0;34m=\u001b[0m\u001b[0;32mFalse\u001b[0m\u001b[0;34m\u001b[0m\u001b[0;34m\u001b[0m\u001b[0m\n\u001b[1;32m      5\u001b[0m \u001b[0;32mwhile\u001b[0m \u001b[0;32mnot\u001b[0m \u001b[0mdone\u001b[0m\u001b[0;34m:\u001b[0m\u001b[0;34m\u001b[0m\u001b[0;34m\u001b[0m\u001b[0m\n\u001b[0;32m----> 6\u001b[0;31m     \u001b[0mobs\u001b[0m\u001b[0;34m,\u001b[0m \u001b[0mrwd\u001b[0m\u001b[0;34m,\u001b[0m \u001b[0mdone\u001b[0m\u001b[0;34m,\u001b[0m \u001b[0m_\u001b[0m \u001b[0;34m=\u001b[0m \u001b[0menv\u001b[0m\u001b[0;34m.\u001b[0m\u001b[0mstep\u001b[0m\u001b[0;34m(\u001b[0m\u001b[0mint\u001b[0m\u001b[0;34m(\u001b[0m\u001b[0minput\u001b[0m\u001b[0;34m(\u001b[0m\u001b[0;34m)\u001b[0m\u001b[0;34m)\u001b[0m\u001b[0;34m)\u001b[0m\u001b[0;34m\u001b[0m\u001b[0;34m\u001b[0m\u001b[0m\n\u001b[0m\u001b[1;32m      7\u001b[0m     \u001b[0mrender_inline\u001b[0m\u001b[0;34m(\u001b[0m\u001b[0menv\u001b[0m\u001b[0;34m)\u001b[0m\u001b[0;34m\u001b[0m\u001b[0;34m\u001b[0m\u001b[0m\n\u001b[1;32m      8\u001b[0m \u001b[0menv\u001b[0m\u001b[0;34m.\u001b[0m\u001b[0mclose\u001b[0m\u001b[0;34m(\u001b[0m\u001b[0;34m)\u001b[0m\u001b[0;34m\u001b[0m\u001b[0;34m\u001b[0m\u001b[0m\n",
      "\u001b[0;31mValueError\u001b[0m: invalid literal for int() with base 10: ''"
     ]
    }
   ],
   "source": [
    "##### Human Input\n",
    "obs=env.reset()\n",
    "render_inline(env)\n",
    "done=False\n",
    "while not done:\n",
    "    obs, rwd, done, _ = env.step(int(input()))\n",
    "    render_inline(env)\n",
    "env.close()"
   ]
  },
  {
   "cell_type": "code",
   "execution_count": null,
   "id": "excited-spyware",
   "metadata": {},
   "outputs": [],
   "source": []
  }
 ],
 "metadata": {
  "kernelspec": {
   "display_name": "Python 3",
   "language": "python",
   "name": "python3"
  },
  "language_info": {
   "codemirror_mode": {
    "name": "ipython",
    "version": 3
   },
   "file_extension": ".py",
   "mimetype": "text/x-python",
   "name": "python",
   "nbconvert_exporter": "python",
   "pygments_lexer": "ipython3",
   "version": "3.8.5-final"
  }
 },
 "nbformat": 4,
 "nbformat_minor": 5
}