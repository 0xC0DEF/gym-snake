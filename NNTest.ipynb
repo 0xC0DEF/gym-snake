{
 "cells": [
  {
   "cell_type": "code",
   "execution_count": 1,
   "id": "northern-mason",
   "metadata": {},
   "outputs": [],
   "source": [
    "#model definition\n",
    "\n",
    "import random\n",
    "import time\n",
    "from collections import deque\n",
    "import numpy as np\n",
    "\n",
    "import torch as tc\n",
    "import torch.nn as nn\n",
    "import torch.optim as opt\n",
    "import torch.nn.init as init\n",
    "DEVICE = tc.device(\"cuda\" if tc.cuda.is_available() else \"cpu\")\n",
    "\n",
    "import gym\n",
    "import gym_snake\n",
    "env = gym.make('snake-v0')\n",
    "\n",
    "class Option(object):\n",
    "    HUNGRY_RATE=20\n",
    "    ROW=7\n",
    "    COL=11\n",
    "    \n",
    "class FFC(nn.Module):\n",
    "    def __init__(self, chn_in, chn_out, ker_sz):\n",
    "        super().__init__()\n",
    "        self.c=nn.Conv2d(chn_in,chn_out,ker_sz,padding=ker_sz//2,padding_mode=\"circular\",bias=False)\n",
    "        #self.d=nn.Dropout2d(0.5)\n",
    "        #self.b=nn.BatchNorm2d(chn_out)\n",
    "        self.a=nn.LeakyReLU(0.1)\n",
    "\n",
    "    def forward(self, x):\n",
    "        return self.a(self.c(x))\n",
    "    \n",
    "class CTR(nn.Module):\n",
    "    def __init__(self, N_in, N_out, drop_out=False):\n",
    "        super().__init__()\n",
    "        self.l=nn.Linear(N_in,N_out)\n",
    "        self.drop_out=drop_out\n",
    "        if drop_out:\n",
    "            self.d=nn.Dropout(0.5)\n",
    "        self.a=nn.LeakyReLU(0.1)\n",
    "\n",
    "    def forward(self, x):\n",
    "        x=self.l(x)\n",
    "        if self.drop_out:\n",
    "            x=self.d(x)\n",
    "        return self.a(x)\n",
    "\n",
    "class NN(nn.Module):\n",
    "    def __init__(self):\n",
    "        super(NN,self).__init__()\n",
    "        self.chn_in=12\n",
    "        self.chn_mid=12\n",
    "        self.chn_out=12\n",
    "        self.ch_adjuster=nn.Conv2d(3,self.chn_in,1,padding=0,bias=False)\n",
    "        self.ffcs=nn.ModuleList([\n",
    "            FFC(self.chn_in,self.chn_mid,3),\n",
    "            FFC(self.chn_mid,self.chn_mid,3),\n",
    "            FFC(self.chn_mid,self.chn_mid,5),\n",
    "            FFC(self.chn_mid,self.chn_out,3)])\n",
    "        \n",
    "        self.dense=nn.Sequential(\n",
    "            nn.Linear(self.chn_out*Option.ROW*Option.COL,256),\n",
    "            nn.Dropout(0.5),\n",
    "            nn.LeakyReLU(0.1),\n",
    "            \n",
    "            CTR(256,128,True),\n",
    "            CTR(128,128),\n",
    "            CTR(128,32),\n",
    "            \n",
    "            nn.Linear(32,3),\n",
    "        )\n",
    "#         for ffc in self.ffcs:\n",
    "#             init.xavier_uniform_(ffc.c.weight.data)\n",
    "#             init.xavier_uniform_(ffc.c.bias.data)\n",
    "#         init.xavier_uniform_(dense.weight.data)\n",
    "#         init.xavier_uniform_(dense.bias.data)\n",
    "                \n",
    "    def forward(self,x):\n",
    "        x=x.to(DEVICE)\n",
    "        #x=x.reshape((-1,self.chn_in,Option.ROW,Option.COL))\n",
    "        x=x.reshape((-1,3,Option.ROW,Option.COL))\n",
    "        xa=self.ch_adjuster(x)\n",
    "        x=xa\n",
    "        for ffc in self.ffcs:\n",
    "            x=ffc(x)+xa #residual training\n",
    "        x=x.reshape(-1,self.chn_out*Option.ROW*Option.COL)\n",
    "        return self.dense(x)"
   ]
  },
  {
   "cell_type": "code",
   "execution_count": 9,
   "id": "reported-abuse",
   "metadata": {},
   "outputs": [
    {
     "data": {
      "text/plain": [
       "<All keys matched successfully>"
      ]
     },
     "execution_count": 9,
     "metadata": {},
     "output_type": "execute_result"
    }
   ],
   "source": [
    "#load\n",
    "net_trained=NN().cuda()\n",
    "net_trained.load_state_dict(tc.load('./netw.pt'))"
   ]
  },
  {
   "cell_type": "code",
   "execution_count": 16,
   "id": "basic-effectiveness",
   "metadata": {},
   "outputs": [],
   "source": [
    "import time\n",
    "\n",
    "net_trained.eval()\n",
    "\n",
    "with tc.no_grad():\n",
    "    obs=env.reset()\n",
    "    while True:\n",
    "        res=net_trained(tc.tensor(obs).to(DEVICE)).detach().squeeze().tolist()\n",
    "        obs, rwd, done, _ = env.step(res.index(max(res)))\n",
    "        env.render()\n",
    "        time.sleep(0.1)\n",
    "        if done:\n",
    "            break\n",
    "    time.sleep(0.5)\n",
    "    env.close()"
   ]
  },
  {
   "cell_type": "code",
   "execution_count": 4,
   "id": "referenced-surgeon",
   "metadata": {},
   "outputs": [
    {
     "data": {
      "text/plain": [
       "True"
      ]
     },
     "execution_count": 4,
     "metadata": {},
     "output_type": "execute_result"
    }
   ],
   "source": [
    "obs=env.reset()\n",
    "env.render()"
   ]
  },
  {
   "cell_type": "code",
   "execution_count": null,
   "id": "brief-hundred",
   "metadata": {},
   "outputs": [],
   "source": []
  }
 ],
 "metadata": {
  "kernelspec": {
   "display_name": "Python 3",
   "language": "python",
   "name": "python3"
  },
  "language_info": {
   "codemirror_mode": {
    "name": "ipython",
    "version": 3
   },
   "file_extension": ".py",
   "mimetype": "text/x-python",
   "name": "python",
   "nbconvert_exporter": "python",
   "pygments_lexer": "ipython3",
   "version": "3.8.5"
  }
 },
 "nbformat": 4,
 "nbformat_minor": 5
}
