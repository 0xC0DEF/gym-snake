{
 "cells": [
  {
   "cell_type": "code",
   "execution_count": 1,
   "id": "characteristic-exclusion",
   "metadata": {},
   "outputs": [
    {
     "name": "stdout",
     "output_type": "stream",
     "text": [
      "{'snake': deque([(1, 0)]), 'dot': (3, 5)}\n",
      "{'snake': deque([(0, 0)]), 'dot': (3, 5)}\n",
      "{'snake': deque([(0, 0)]), 'dot': (3, 5)}\n",
      "episode 0 finished after 2 timesteps\n",
      "{'snake': deque([(2, 1)]), 'dot': (5, 0)}\n",
      "{'snake': deque([(2, 2)]), 'dot': (5, 0)}\n",
      "{'snake': deque([(1, 2)]), 'dot': (5, 0)}\n",
      "{'snake': deque([(0, 2)]), 'dot': (5, 0)}\n",
      "{'snake': deque([(0, 2)]), 'dot': (5, 0)}\n",
      "episode 1 finished after 4 timesteps\n",
      "{'snake': deque([(2, 1)]), 'dot': (3, 4)}\n",
      "{'snake': deque([(2, 1)]), 'dot': (3, 4)}\n",
      "episode 2 finished after 1 timesteps\n",
      "{'snake': deque([(1, 2)]), 'dot': (0, 0)}\n",
      "{'snake': deque([(1, 2)]), 'dot': (0, 0)}\n",
      "episode 3 finished after 1 timesteps\n",
      "{'snake': deque([(1, 0)]), 'dot': (6, 1)}\n",
      "{'snake': deque([(1, 0)]), 'dot': (6, 1)}\n",
      "episode 4 finished after 1 timesteps\n",
      "{'snake': deque([(0, 1)]), 'dot': (2, 5)}\n",
      "{'snake': deque([(0, 1)]), 'dot': (2, 5)}\n",
      "episode 5 finished after 1 timesteps\n",
      "{'snake': deque([(0, 1)]), 'dot': (0, 0)}\n",
      "{'snake': deque([(0, 1)]), 'dot': (0, 0)}\n",
      "episode 6 finished after 1 timesteps\n",
      "{'snake': deque([(1, 0)]), 'dot': (4, 4)}\n",
      "{'snake': deque([(1, 0)]), 'dot': (4, 4)}\n",
      "episode 7 finished after 1 timesteps\n",
      "{'snake': deque([(1, 0)]), 'dot': (7, 0)}\n",
      "{'snake': deque([(2, 0)]), 'dot': (7, 0)}\n",
      "{'snake': deque([(2, 0)]), 'dot': (7, 0)}\n",
      "episode 8 finished after 2 timesteps\n",
      "{'snake': deque([(0, 1)]), 'dot': (5, 5)}\n",
      "{'snake': deque([(0, 1)]), 'dot': (5, 5)}\n",
      "episode 9 finished after 1 timesteps\n"
     ]
    }
   ],
   "source": [
    "import gym\n",
    "import gym_snake\n",
    "\n",
    "env = gym.make('snake-v0')\n",
    "\n",
    "for i in range(10):\n",
    "    env.reset()\n",
    "    for t in range(1000):\n",
    "        env.render(close=True)\n",
    "        observation, reward, done, info = env.step(env.action_space.sample())\n",
    "        print(observation)\n",
    "        if done:\n",
    "            print('episode {} finished after {} timesteps'.format(i, t))\n",
    "            break\n",
    "env.close()"
   ]
  },
  {
   "cell_type": "code",
   "execution_count": null,
   "id": "seasonal-collins",
   "metadata": {},
   "outputs": [],
   "source": []
  }
 ],
 "metadata": {
  "kernelspec": {
   "display_name": "Python 3",
   "language": "python",
   "name": "python3"
  },
  "language_info": {
   "codemirror_mode": {
    "name": "ipython",
    "version": 3
   },
   "file_extension": ".py",
   "mimetype": "text/x-python",
   "name": "python",
   "nbconvert_exporter": "python",
   "pygments_lexer": "ipython3",
   "version": "3.8.5"
  }
 },
 "nbformat": 4,
 "nbformat_minor": 5
}
