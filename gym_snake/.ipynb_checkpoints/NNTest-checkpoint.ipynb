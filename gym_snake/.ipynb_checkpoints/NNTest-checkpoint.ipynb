{
 "cells": [
  {
   "cell_type": "code",
   "execution_count": 1,
   "id": "nominated-medicaid",
   "metadata": {},
   "outputs": [],
   "source": [
    "#train on GPU\n",
    "\n",
    "net=NN().cuda()\n",
    "net.train()\n",
    "print(next(net.parameters()).is_cuda)\n",
    "lossf=tc.nn.MSELoss()\n",
    "opter=opt.Adam(net.parameters(),lr=5e-5)#, weight_decay=5e-6)\n",
    "\n",
    "epoch_N=20000\n",
    "dr=0.75\n",
    "eps=1.0\n",
    "eps_base=0.9998\n",
    "eps_min=0.05\n",
    "\n",
    "expr = deque(maxlen=10000)\n",
    "batch_N = 128\n",
    "\n",
    "j=0\n",
    "last_loss=0\n",
    "rsums=[]\n",
    "for i in range(epoch_N):\n",
    "    obs=env.reset()\n",
    "    done=False\n",
    "    if last_loss and i%100==0:\n",
    "        print(\"Progress: {0:.2f} ({1}/{2})\".format(i/epoch_N*100,i,epoch_N))\n",
    "        print(\"Last Loss: \",last_loss)\n",
    "        print(\"Avg Rwd: \", sum(rsums)/len(rsums))\n",
    "        print(\"Max Rwd: \", max(rsums))\n",
    "        rsums=[]\n",
    "        losses=[]\n",
    "        \n",
    "        if i/100%10==0:\n",
    "            tc.save(net.state_dict(),'./netw.pt')\n",
    "            from IPython.display import clear_output\n",
    "            clear_output(wait=True)\n",
    "        \n",
    "    rsum=0\n",
    "    while not done:\n",
    "        s1=obs2input(obs)\n",
    "        qval=net(tc.tensor(s1))\n",
    "        actidx=None\n",
    "        if random.random()<eps:\n",
    "            actidx=np.random.randint(0,4)\n",
    "        else:\n",
    "            actidx=np.argmax(qval.cpu().detach().numpy())\n",
    "        obs,rwd,done,info=env.step(actidx)\n",
    "        rsum+=rwd\n",
    "        expr.append((s1,actidx,rwd,obs2input(obs),int(done)))\n",
    "        \n",
    "        j+=1\n",
    "        if len(expr)>batch_N and j%(batch_N//10)==0:\n",
    "            bat=random.sample(expr,batch_N)\n",
    "            s1bat=tc.tensor([s1 for (s1,a,r,s2,d) in bat]).to(DEVICE)\n",
    "            abat=tc.tensor([a for (s1,a,r,s2,d) in bat]).to(DEVICE)\n",
    "            rbat=tc.tensor([r for (s1,a,r,s2,d) in bat]).to(DEVICE)\n",
    "            s2bat=tc.tensor([s2 for (s1,a,r,s2,d) in bat]).to(DEVICE)\n",
    "            dbat=tc.tensor([d for (s1,a,r,s2,d) in bat]).to(DEVICE)\n",
    "\n",
    "            q1=net(s1bat)\n",
    "            with tc.no_grad():\n",
    "                q2=net(s2bat)\n",
    "            x=q1.gather(1,abat.unsqueeze(dim=1)).squeeze()\n",
    "            y=rbat+dr*((1-dbat)*tc.max(q2,dim=1)[0])\n",
    "            loss=lossf(x,y)\n",
    "            opter.zero_grad()\n",
    "            loss.backward()\n",
    "            opter.step()\n",
    "            last_loss=loss.cpu().detach().numpy()\n",
    "    rsums.append(rsum)\n",
    "\n",
    "    eps=max(eps_min,eps_base**i)\n",
    "\n",
    "#save\n",
    "tc.save(net.state_dict(),'./netw.pt')"
   ]
  },
  {
   "cell_type": "code",
   "execution_count": 2,
   "id": "military-benjamin",
   "metadata": {},
   "outputs": [
    {
     "ename": "RuntimeError",
     "evalue": "Error(s) in loading state_dict for NN:\n\tMissing key(s) in state_dict: \"c1.0.weight\", \"c1.0.bias\", \"c1.3.weight\", \"c1.3.bias\". \n\tsize mismatch for d1.0.weight: copying a param with shape torch.Size([256, 128]) from checkpoint, the shape in current model is torch.Size([256, 256]).",
     "output_type": "error",
     "traceback": [
      "\u001b[0;31m---------------------------------------------------------------------------\u001b[0m",
      "\u001b[0;31mRuntimeError\u001b[0m                              Traceback (most recent call last)",
      "\u001b[0;32m<ipython-input-2-0a275187feab>\u001b[0m in \u001b[0;36m<module>\u001b[0;34m\u001b[0m\n\u001b[1;32m      1\u001b[0m \u001b[0;31m#load\u001b[0m\u001b[0;34m\u001b[0m\u001b[0;34m\u001b[0m\u001b[0;34m\u001b[0m\u001b[0m\n\u001b[1;32m      2\u001b[0m \u001b[0mnet_trained\u001b[0m\u001b[0;34m=\u001b[0m\u001b[0mNN\u001b[0m\u001b[0;34m(\u001b[0m\u001b[0;34m)\u001b[0m\u001b[0;34m.\u001b[0m\u001b[0mcuda\u001b[0m\u001b[0;34m(\u001b[0m\u001b[0;34m)\u001b[0m\u001b[0;34m\u001b[0m\u001b[0;34m\u001b[0m\u001b[0m\n\u001b[0;32m----> 3\u001b[0;31m \u001b[0mnet_trained\u001b[0m\u001b[0;34m.\u001b[0m\u001b[0mload_state_dict\u001b[0m\u001b[0;34m(\u001b[0m\u001b[0mtc\u001b[0m\u001b[0;34m.\u001b[0m\u001b[0mload\u001b[0m\u001b[0;34m(\u001b[0m\u001b[0;34m'./netw.pt'\u001b[0m\u001b[0;34m)\u001b[0m\u001b[0;34m)\u001b[0m\u001b[0;34m\u001b[0m\u001b[0;34m\u001b[0m\u001b[0m\n\u001b[0m",
      "\u001b[0;32m~/.local/lib/python3.8/site-packages/torch/nn/modules/module.py\u001b[0m in \u001b[0;36mload_state_dict\u001b[0;34m(self, state_dict, strict)\u001b[0m\n\u001b[1;32m   1049\u001b[0m \u001b[0;34m\u001b[0m\u001b[0m\n\u001b[1;32m   1050\u001b[0m         \u001b[0;32mif\u001b[0m \u001b[0mlen\u001b[0m\u001b[0;34m(\u001b[0m\u001b[0merror_msgs\u001b[0m\u001b[0;34m)\u001b[0m \u001b[0;34m>\u001b[0m \u001b[0;36m0\u001b[0m\u001b[0;34m:\u001b[0m\u001b[0;34m\u001b[0m\u001b[0;34m\u001b[0m\u001b[0m\n\u001b[0;32m-> 1051\u001b[0;31m             raise RuntimeError('Error(s) in loading state_dict for {}:\\n\\t{}'.format(\n\u001b[0m\u001b[1;32m   1052\u001b[0m                                self.__class__.__name__, \"\\n\\t\".join(error_msgs)))\n\u001b[1;32m   1053\u001b[0m         \u001b[0;32mreturn\u001b[0m \u001b[0m_IncompatibleKeys\u001b[0m\u001b[0;34m(\u001b[0m\u001b[0mmissing_keys\u001b[0m\u001b[0;34m,\u001b[0m \u001b[0munexpected_keys\u001b[0m\u001b[0;34m)\u001b[0m\u001b[0;34m\u001b[0m\u001b[0;34m\u001b[0m\u001b[0m\n",
      "\u001b[0;31mRuntimeError\u001b[0m: Error(s) in loading state_dict for NN:\n\tMissing key(s) in state_dict: \"c1.0.weight\", \"c1.0.bias\", \"c1.3.weight\", \"c1.3.bias\". \n\tsize mismatch for d1.0.weight: copying a param with shape torch.Size([256, 128]) from checkpoint, the shape in current model is torch.Size([256, 256])."
     ]
    }
   ],
   "source": [
    "#load\n",
    "net_trained=NN().cuda()\n",
    "net_trained.load_state_dict(tc.load('./netw.pt'))"
   ]
  },
  {
   "cell_type": "code",
   "execution_count": 252,
   "id": "portuguese-charity",
   "metadata": {},
   "outputs": [],
   "source": [
    "net_trained.eval()\n",
    "\n",
    "obs=env.reset()\n",
    "while True:\n",
    "    res=net_trained(tc.tensor(obs2input(obs)).to(DEVICE)).detach().squeeze().tolist()\n",
    "    obs, rwd, done, _ = env.step(res.index(max(res)))\n",
    "    env.render()\n",
    "    if done:\n",
    "        break\n",
    "env.close()"
   ]
  },
  {
   "cell_type": "code",
   "execution_count": null,
   "id": "alleged-festival",
   "metadata": {},
   "outputs": [],
   "source": []
  },
  {
   "cell_type": "code",
   "execution_count": null,
   "id": "precise-surgeon",
   "metadata": {},
   "outputs": [],
   "source": []
  }
 ],
 "metadata": {
  "kernelspec": {
   "display_name": "Python 3",
   "language": "python",
   "name": "python3"
  },
  "language_info": {
   "codemirror_mode": {
    "name": "ipython",
    "version": 3
   },
   "file_extension": ".py",
   "mimetype": "text/x-python",
   "name": "python",
   "nbconvert_exporter": "python",
   "pygments_lexer": "ipython3",
   "version": "3.8.5"
  }
 },
 "nbformat": 4,
 "nbformat_minor": 5
}
