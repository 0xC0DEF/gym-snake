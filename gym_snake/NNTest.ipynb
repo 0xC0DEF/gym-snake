{
 "cells": [
  {
   "cell_type": "code",
   "execution_count": 65,
   "id": "persistent-jurisdiction",
   "metadata": {},
   "outputs": [],
   "source": [
    "#model definition\n",
    "\n",
    "import random\n",
    "import time\n",
    "from collections import deque\n",
    "import numpy as np\n",
    "\n",
    "import torch as tc\n",
    "import torch.nn as nn\n",
    "import torch.optim as opt\n",
    "import torch.nn.init as init\n",
    "DEVICE = tc.device(\"cuda\" if tc.cuda.is_available() else \"cpu\")\n",
    "\n",
    "import gym\n",
    "import gym_snake\n",
    "env = gym.make('snake-v0')\n",
    "\n",
    "def obs2input(obs):\n",
    "    snake = obs[\"snake\"]\n",
    "    dy,dx = obs[\"dot\"]\n",
    "    \n",
    "    arr=[[[0.0 for _ in range(env.height)] for __ in range(env.width)] for ___ in range(2)]\n",
    "    \n",
    "    for i in range(len(snake)):\n",
    "        y,x=snake[i]\n",
    "        arr[0][y][x]=1.0+i/len(snake)\n",
    "    arr[1][dy][dx]=1.0\n",
    "    \n",
    "    return arr\n",
    "\n",
    "class NN(nn.Module):\n",
    "    def __init__(self):\n",
    "        super(NN,self).__init__()\n",
    "        self.in_ch=2\n",
    "        self.out_ch=4\n",
    "        \n",
    "        self.c1=nn.Sequential(\n",
    "#             nn.Conv2d(self.in_ch,10,3,padding=1,padding_mode=\"circular\"),\n",
    "#             nn.Dropout2d(0.3),\n",
    "#             nn.LeakyReLU(0.1),\n",
    "#             nn.Conv2d(10,15,3,padding=1,padding_mode=\"circular\"),\n",
    "#             nn.Dropout2d(0.3),\n",
    "#             nn.LeakyReLU(0.1),\n",
    "#             nn.Conv2d(15,8,3,padding=1,padding_mode=\"circular\"),\n",
    "#             nn.Dropout2d(0.3),\n",
    "#             nn.LeakyReLU(0.1),\n",
    "#             nn.Conv2d(8,self.out_ch,3,padding=1,padding_mode=\"circular\"),\n",
    "#             nn.Dropout2d(0.3),\n",
    "#             nn.LeakyReLU(0.1),\n",
    "        )\n",
    "        \n",
    "        self.d1=nn.Sequential(\n",
    "            #nn.Linear(self.out_ch*env.height*env.width,256),\n",
    "            nn.Linear(self.in_ch*env.height*env.width,256),\n",
    "            nn.Dropout(0.4),\n",
    "            nn.LeakyReLU(0.1),\n",
    "            \n",
    "            nn.Linear(256,128),\n",
    "            nn.Dropout(0.35),\n",
    "            nn.LeakyReLU(0.1),\n",
    "            \n",
    "            nn.Linear(128,4),\n",
    "        )\n",
    "        for m in [self.c1,self.d1]:\n",
    "            if type(m)==nn.Linear or type(m)==nn.Conv2d:\n",
    "                init.xavier_uniform_(m.weight.data)\n",
    "                init.xavier_uniform_(m.bias.data)\n",
    "                \n",
    "    def forward(self,x):\n",
    "        x=x.to(DEVICE).reshape((-1,self.in_ch,env.height,env.width))\n",
    "        #x=self.c1(x)\n",
    "        x=x.reshape(-1,self.in_ch*env.height*env.width)\n",
    "        return self.d1(x)"
   ]
  },
  {
   "cell_type": "code",
   "execution_count": 196,
   "id": "exterior-ferry",
   "metadata": {},
   "outputs": [
    {
     "data": {
      "text/plain": [
       "<All keys matched successfully>"
      ]
     },
     "execution_count": 196,
     "metadata": {},
     "output_type": "execute_result"
    }
   ],
   "source": [
    "#load\n",
    "net_trained=NN().cuda()\n",
    "net_trained.load_state_dict(tc.load('./netw.pt'))"
   ]
  },
  {
   "cell_type": "code",
   "execution_count": 252,
   "id": "surprised-track",
   "metadata": {},
   "outputs": [],
   "source": [
    "net_trained.eval()\n",
    "\n",
    "obs=env.reset()\n",
    "while True:\n",
    "    res=net_trained(tc.tensor(obs2input(obs)).to(DEVICE)).detach().squeeze().tolist()\n",
    "    obs, rwd, done, _ = env.step(res.index(max(res)))\n",
    "    env.render()\n",
    "    if done:\n",
    "        break\n",
    "env.close()"
   ]
  },
  {
   "cell_type": "code",
   "execution_count": null,
   "id": "alpha-complement",
   "metadata": {},
   "outputs": [],
   "source": []
  },
  {
   "cell_type": "code",
   "execution_count": null,
   "id": "absent-divorce",
   "metadata": {},
   "outputs": [],
   "source": []
  }
 ],
 "metadata": {
  "kernelspec": {
   "display_name": "Python 3",
   "language": "python",
   "name": "python3"
  },
  "language_info": {
   "codemirror_mode": {
    "name": "ipython",
    "version": 3
   },
   "file_extension": ".py",
   "mimetype": "text/x-python",
   "name": "python",
   "nbconvert_exporter": "python",
   "pygments_lexer": "ipython3",
   "version": "3.8.5"
  }
 },
 "nbformat": 4,
 "nbformat_minor": 5
}
